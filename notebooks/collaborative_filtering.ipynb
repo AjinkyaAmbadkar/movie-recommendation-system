{
 "cells": [
  {
   "cell_type": "code",
   "execution_count": 6,
   "id": "4afd7963",
   "metadata": {},
   "outputs": [
    {
     "name": "stderr",
     "output_type": "stream",
     "text": [
      "/var/folders/z9/k5mpzs5n7yvdr65g96bpt72m0000gn/T/ipykernel_21681/4208180586.py:13: UserWarning: pandas only supports SQLAlchemy connectable (engine/connection) or database string URI or sqlite3 DBAPI2 connection. Other DBAPI2 objects are not tested. Please consider using SQLAlchemy.\n",
      "  ratings_df = pd.read_sql(\"SELECT user_id, movie_id, rating FROM ratings;\", conn)\n"
     ]
    }
   ],
   "source": [
    "import pandas as pd\n",
    "import psycopg2\n",
    "\n",
    "# Connect to your PostgreSQL database\n",
    "conn = psycopg2.connect(\n",
    "    host=\"localhost\",\n",
    "    dbname=\"moviedb\",\n",
    "    user=\"ajinkyaambadkar\",\n",
    "    password=\"Achiever216\"  # Replace with your real PostgreSQL password\n",
    ")\n",
    "\n",
    "# Load ratings data\n",
    "ratings_df = pd.read_sql(\"SELECT user_id, movie_id, rating FROM ratings;\", conn)\n",
    "conn.close()\n",
    "\n",
    "ratings_df.head()\n",
    "ratings_df.to_csv(\"data/processed/ratings_clean.csv\", index=False)\n"
   ]
  },
  {
   "cell_type": "code",
   "execution_count": 7,
   "id": "c24f0a81",
   "metadata": {},
   "outputs": [],
   "source": [
    "from surprise import Dataset, Reader\n",
    "\n",
    "# Define a reader with rating scale 1–5\n",
    "reader = Reader(rating_scale=(1, 5))\n",
    "\n",
    "# Load ratings dataframe into Surprise dataset format\n",
    "data = Dataset.load_from_df(ratings_df[['user_id', 'movie_id', 'rating']], reader)\n"
   ]
  },
  {
   "cell_type": "code",
   "execution_count": 8,
   "id": "411d3158",
   "metadata": {},
   "outputs": [
    {
     "name": "stdout",
     "output_type": "stream",
     "text": [
      "Evaluating RMSE, MAE of algorithm SVD on 5 split(s).\n",
      "\n",
      "                  Fold 1  Fold 2  Fold 3  Fold 4  Fold 5  Mean    Std     \n",
      "RMSE (testset)    0.9315  0.9338  0.9454  0.9368  0.9373  0.9370  0.0047  \n",
      "MAE (testset)     0.7355  0.7357  0.7467  0.7372  0.7385  0.7387  0.0041  \n",
      "Fit time          0.31    0.30    0.29    0.26    0.34    0.30    0.02    \n",
      "Test time         0.03    0.06    0.03    0.06    0.03    0.04    0.01    \n"
     ]
    },
    {
     "data": {
      "text/plain": [
       "{'test_rmse': array([0.93151519, 0.93375345, 0.94544162, 0.93679859, 0.93727641]),\n",
       " 'test_mae': array([0.73545069, 0.73574924, 0.74667344, 0.73715854, 0.73854165]),\n",
       " 'fit_time': (0.3070828914642334,\n",
       "  0.30084991455078125,\n",
       "  0.2922041416168213,\n",
       "  0.26270580291748047,\n",
       "  0.3379089832305908),\n",
       " 'test_time': (0.029619932174682617,\n",
       "  0.05709123611450195,\n",
       "  0.028538942337036133,\n",
       "  0.05878186225891113,\n",
       "  0.030364274978637695)}"
      ]
     },
     "execution_count": 8,
     "metadata": {},
     "output_type": "execute_result"
    }
   ],
   "source": [
    "from surprise import SVD\n",
    "from surprise.model_selection import cross_validate\n",
    "\n",
    "# Use SVD (matrix factorization)\n",
    "model = SVD()\n",
    "\n",
    "# Evaluate using 5-fold cross-validation\n",
    "cross_validate(model, data, measures=['RMSE', 'MAE'], cv=5, verbose=True)\n"
   ]
  },
  {
   "cell_type": "code",
   "execution_count": 9,
   "id": "ace594b2",
   "metadata": {},
   "outputs": [
    {
     "data": {
      "text/plain": [
       "<surprise.prediction_algorithms.matrix_factorization.SVD at 0x13fac66b0>"
      ]
     },
     "execution_count": 9,
     "metadata": {},
     "output_type": "execute_result"
    }
   ],
   "source": [
    "trainset = data.build_full_trainset()\n",
    "model.fit(trainset)\n"
   ]
  },
  {
   "cell_type": "code",
   "execution_count": 10,
   "id": "3a53f8b5",
   "metadata": {},
   "outputs": [
    {
     "name": "stdout",
     "output_type": "stream",
     "text": [
      "Movie ID: 318, Predicted Rating: 4.55\n",
      "Movie ID: 496, Predicted Rating: 4.26\n",
      "Movie ID: 12, Predicted Rating: 4.24\n",
      "Movie ID: 64, Predicted Rating: 4.22\n",
      "Movie ID: 427, Predicted Rating: 4.20\n",
      "Movie ID: 83, Predicted Rating: 4.19\n",
      "Movie ID: 169, Predicted Rating: 4.16\n",
      "Movie ID: 114, Predicted Rating: 4.15\n",
      "Movie ID: 515, Predicted Rating: 4.08\n",
      "Movie ID: 143, Predicted Rating: 4.07\n"
     ]
    }
   ],
   "source": [
    "user_id = 100\n",
    "\n",
    "# Get all movie IDs\n",
    "all_movie_ids = ratings_df['movie_id'].unique()\n",
    "\n",
    "# Get movies already rated by the user\n",
    "rated_movies = ratings_df[ratings_df['user_id'] == user_id]['movie_id'].tolist()\n",
    "\n",
    "# Get the ones they haven’t rated yet\n",
    "unrated_movies = [mid for mid in all_movie_ids if mid not in rated_movies]\n",
    "\n",
    "# Predict for all unrated movies\n",
    "from surprise import Prediction\n",
    "predictions = [model.predict(user_id, movie_id) for movie_id in unrated_movies]\n",
    "\n",
    "# Sort by estimated rating\n",
    "top_n = sorted(predictions, key=lambda x: x.est, reverse=True)[:10]\n",
    "\n",
    "for pred in top_n:\n",
    "    print(f\"Movie ID: {pred.iid}, Predicted Rating: {pred.est:.2f}\")\n"
   ]
  },
  {
   "cell_type": "code",
   "execution_count": 11,
   "id": "20451151",
   "metadata": {},
   "outputs": [
    {
     "name": "stdout",
     "output_type": "stream",
     "text": [
      "Schindler's List (1993) - Predicted Rating: 4.55\n",
      "It's a Wonderful Life (1946) - Predicted Rating: 4.26\n",
      "Usual Suspects, The (1995) - Predicted Rating: 4.24\n",
      "Shawshank Redemption, The (1994) - Predicted Rating: 4.22\n",
      "To Kill a Mockingbird (1962) - Predicted Rating: 4.20\n",
      "Much Ado About Nothing (1993) - Predicted Rating: 4.19\n",
      "Wrong Trousers, The (1993) - Predicted Rating: 4.16\n",
      "Wallace & Gromit: The Best of Aardman Animation (1996) - Predicted Rating: 4.15\n",
      "Boot, Das (1981) - Predicted Rating: 4.08\n",
      "Sound of Music, The (1965) - Predicted Rating: 4.07\n"
     ]
    },
    {
     "name": "stderr",
     "output_type": "stream",
     "text": [
      "/var/folders/z9/k5mpzs5n7yvdr65g96bpt72m0000gn/T/ipykernel_21681/1391108185.py:8: UserWarning: pandas only supports SQLAlchemy connectable (engine/connection) or database string URI or sqlite3 DBAPI2 connection. Other DBAPI2 objects are not tested. Please consider using SQLAlchemy.\n",
      "  movies_df = pd.read_sql(\"SELECT movie_id, title FROM movies;\", conn)\n"
     ]
    }
   ],
   "source": [
    "conn = psycopg2.connect(\n",
    "    host=\"localhost\",\n",
    "    dbname=\"moviedb\",\n",
    "    user=\"ajinkyaambadkar\",\n",
    "    password=\"Achiever216\"\n",
    ")\n",
    "\n",
    "movies_df = pd.read_sql(\"SELECT movie_id, title FROM movies;\", conn)\n",
    "conn.close()\n",
    "\n",
    "movie_id_to_title = dict(zip(movies_df.movie_id, movies_df.title))\n",
    "movies_df.to_csv(\"data/processed/movies_clean.csv\", index=False)\n",
    "# Show recommendations with titles\n",
    "for pred in top_n:\n",
    "    title = movie_id_to_title.get(int(pred.iid), \"Unknown Movie\")\n",
    "    print(f\"{title} - Predicted Rating: {pred.est:.2f}\")\n"
   ]
  },
  {
   "cell_type": "code",
   "execution_count": null,
   "id": "744ddcf7",
   "metadata": {},
   "outputs": [],
   "source": []
  }
 ],
 "metadata": {
  "kernelspec": {
   "display_name": "movierec",
   "language": "python",
   "name": "python3"
  },
  "language_info": {
   "codemirror_mode": {
    "name": "ipython",
    "version": 3
   },
   "file_extension": ".py",
   "mimetype": "text/x-python",
   "name": "python",
   "nbconvert_exporter": "python",
   "pygments_lexer": "ipython3",
   "version": "3.10.13"
  }
 },
 "nbformat": 4,
 "nbformat_minor": 5
}
