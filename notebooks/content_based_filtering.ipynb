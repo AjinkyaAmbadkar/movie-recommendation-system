{
 "cells": [
  {
   "cell_type": "code",
   "execution_count": 15,
   "id": "82b1bf99",
   "metadata": {},
   "outputs": [
    {
     "name": "stderr",
     "output_type": "stream",
     "text": [
      "/var/folders/z9/k5mpzs5n7yvdr65g96bpt72m0000gn/T/ipykernel_22118/2676539634.py:11: UserWarning: pandas only supports SQLAlchemy connectable (engine/connection) or database string URI or sqlite3 DBAPI2 connection. Other DBAPI2 objects are not tested. Please consider using SQLAlchemy.\n",
      "  movie_genres_df = pd.read_sql(\"\"\"\n"
     ]
    },
    {
     "data": {
      "text/html": [
       "<div>\n",
       "<style scoped>\n",
       "    .dataframe tbody tr th:only-of-type {\n",
       "        vertical-align: middle;\n",
       "    }\n",
       "\n",
       "    .dataframe tbody tr th {\n",
       "        vertical-align: top;\n",
       "    }\n",
       "\n",
       "    .dataframe thead th {\n",
       "        text-align: right;\n",
       "    }\n",
       "</style>\n",
       "<table border=\"1\" class=\"dataframe\">\n",
       "  <thead>\n",
       "    <tr style=\"text-align: right;\">\n",
       "      <th></th>\n",
       "      <th>movie_id</th>\n",
       "      <th>title</th>\n",
       "      <th>genre_name</th>\n",
       "    </tr>\n",
       "  </thead>\n",
       "  <tbody>\n",
       "    <tr>\n",
       "      <th>0</th>\n",
       "      <td>242</td>\n",
       "      <td>Kolya (1996)</td>\n",
       "      <td>Comedy</td>\n",
       "    </tr>\n",
       "    <tr>\n",
       "      <th>1</th>\n",
       "      <td>302</td>\n",
       "      <td>L.A. Confidential (1997)</td>\n",
       "      <td>Crime</td>\n",
       "    </tr>\n",
       "    <tr>\n",
       "      <th>2</th>\n",
       "      <td>302</td>\n",
       "      <td>L.A. Confidential (1997)</td>\n",
       "      <td>Film-Noir</td>\n",
       "    </tr>\n",
       "    <tr>\n",
       "      <th>3</th>\n",
       "      <td>302</td>\n",
       "      <td>L.A. Confidential (1997)</td>\n",
       "      <td>Mystery</td>\n",
       "    </tr>\n",
       "    <tr>\n",
       "      <th>4</th>\n",
       "      <td>302</td>\n",
       "      <td>L.A. Confidential (1997)</td>\n",
       "      <td>Thriller</td>\n",
       "    </tr>\n",
       "  </tbody>\n",
       "</table>\n",
       "</div>"
      ],
      "text/plain": [
       "   movie_id                     title genre_name\n",
       "0       242              Kolya (1996)     Comedy\n",
       "1       302  L.A. Confidential (1997)      Crime\n",
       "2       302  L.A. Confidential (1997)  Film-Noir\n",
       "3       302  L.A. Confidential (1997)    Mystery\n",
       "4       302  L.A. Confidential (1997)   Thriller"
      ]
     },
     "execution_count": 15,
     "metadata": {},
     "output_type": "execute_result"
    }
   ],
   "source": [
    "import pandas as pd\n",
    "import psycopg2\n",
    "conn = psycopg2.connect(\n",
    "    host=\"localhost\",\n",
    "    dbname=\"moviedb\",\n",
    "    user=\"ajinkyaambadkar\",\n",
    "    password=\"Achiever216\"\n",
    ")\n",
    "\n",
    "# Load all genre mappings\n",
    "movie_genres_df = pd.read_sql(\"\"\"\n",
    "    SELECT mg.movie_id, m.title, g.genre_name\n",
    "    FROM movie_genres mg\n",
    "    JOIN movies m ON mg.movie_id = m.movie_id\n",
    "    JOIN genres g ON mg.genre_id = g.genre_id\n",
    "\"\"\", conn)\n",
    "\n",
    "conn.close()\n",
    "\n",
    "movie_genres_df.head()\n"
   ]
  },
  {
   "cell_type": "code",
   "execution_count": 16,
   "id": "3e1eee40",
   "metadata": {},
   "outputs": [],
   "source": [
    "# Create one-hot encoded genre matrix\n",
    "one_hot = pd.get_dummies(movie_genres_df['genre_name'])\n",
    "movies_with_genres = pd.concat([movie_genres_df[['movie_id', 'title']], one_hot], axis=1)\n",
    "\n",
    "# Group by movie to collapse duplicates\n",
    "movies_genre_matrix = movies_with_genres.groupby(['movie_id', 'title']).sum().reset_index()\n",
    "\n",
    "movies_genre_matrix.head()\n",
    "movies_genre_matrix.to_csv(\"data/processed/movie_genres_matrix.csv\", index=False)"
   ]
  },
  {
   "cell_type": "code",
   "execution_count": 17,
   "id": "a313ff72",
   "metadata": {},
   "outputs": [],
   "source": [
    "from sklearn.metrics.pairwise import cosine_similarity\n",
    "\n",
    "# Drop non-feature columns\n",
    "genre_features = movies_genre_matrix.drop(['movie_id', 'title'], axis=1)\n",
    "\n",
    "# Compute cosine similarity matrix\n",
    "cosine_sim = cosine_similarity(genre_features)\n",
    "\n",
    "# Index mapping: movie title → row index\n",
    "movie_indices = pd.Series(movies_genre_matrix.index, index=movies_genre_matrix['title']).drop_duplicates()\n"
   ]
  },
  {
   "cell_type": "code",
   "execution_count": 18,
   "id": "436393d3",
   "metadata": {},
   "outputs": [],
   "source": [
    "def recommend_similar_movies(title, top_n=10):\n",
    "    if title not in movie_indices:\n",
    "        return [\"Movie not found.\"]\n",
    "    \n",
    "    idx = movie_indices[title]\n",
    "    sim_scores = list(enumerate(cosine_sim[idx]))\n",
    "    sim_scores = sorted(sim_scores, key=lambda x: x[1], reverse=True)[1:top_n+1]\n",
    "    \n",
    "    return movies_genre_matrix.iloc[[i[0] for i in sim_scores]]['title'].tolist()\n"
   ]
  },
  {
   "cell_type": "code",
   "execution_count": 19,
   "id": "f650c6f0",
   "metadata": {},
   "outputs": [
    {
     "data": {
      "text/plain": [
       "['Aladdin and the King of Thieves (1996)',\n",
       " 'Aladdin (1992)',\n",
       " 'Goofy Movie, A (1995)',\n",
       " 'Santa Clause, The (1994)',\n",
       " 'Home Alone (1990)',\n",
       " 'Aristocats, The (1970)',\n",
       " 'D3: The Mighty Ducks (1996)',\n",
       " 'Love Bug, The (1969)',\n",
       " 'Wrong Trousers, The (1993)',\n",
       " 'Grand Day Out, A (1992)']"
      ]
     },
     "execution_count": 19,
     "metadata": {},
     "output_type": "execute_result"
    }
   ],
   "source": [
    "recommend_similar_movies(\"Toy Story (1995)\")\n"
   ]
  },
  {
   "cell_type": "code",
   "execution_count": 9,
   "id": "5e5ece7d",
   "metadata": {},
   "outputs": [
    {
     "data": {
      "text/plain": [
       "['Movie not found.']"
      ]
     },
     "execution_count": 9,
     "metadata": {},
     "output_type": "execute_result"
    }
   ],
   "source": [
    "recommend_similar_movies(\"shawshank redemption (1994)\")\n"
   ]
  },
  {
   "cell_type": "code",
   "execution_count": 20,
   "id": "c5013d2c",
   "metadata": {},
   "outputs": [],
   "source": [
    "from surprise import SVD, Dataset, Reader\n",
    "from sklearn.metrics.pairwise import cosine_similarity\n",
    "import pandas as pd\n",
    "\n",
    "# Train SVD model\n",
    "reader = Reader(rating_scale=(1, 5))\n",
    "data = Dataset.load_from_df(ratings_df[['user_id', 'movie_id', 'rating']], reader)\n",
    "trainset = data.build_full_trainset()\n",
    "model = SVD()\n",
    "model.fit(trainset)\n",
    "\n",
    "# Genre matrix for cosine similarity\n",
    "genre_features = movies_genre_matrix.drop(['movie_id', 'title'], axis=1)\n",
    "cosine_sim = cosine_similarity(genre_features)\n",
    "\n",
    "# Mapping from title → index (for cosine_sim lookup)\n",
    "movie_indices = pd.Series(movies_genre_matrix.index, index=movies_genre_matrix['title']).drop_duplicates()\n"
   ]
  },
  {
   "cell_type": "code",
   "execution_count": 32,
   "id": "11b5ccb8",
   "metadata": {},
   "outputs": [],
   "source": [
    "import numpy as np\n",
    "\n",
    "alpha = 0.7  # Weight for collaborative filtering\n",
    "\n",
    "ratings_df = pd.read_csv(\"data/processed/ratings_clean.csv\")\n",
    "movies_genre_matrix = pd.read_csv(\"data/processed/movie_genres_matrix.csv\")\n",
    "movie_id_to_title = pd.read_csv(\"data/processed/movies_clean.csv\").set_index(\"movie_id\")[\"title\"].to_dict()\n",
    "\n",
    "\n",
    "def hybrid_recommend(user_id, top_n=10):\n",
    "    # All movie IDs\n",
    "    all_movie_ids = ratings_df['movie_id'].unique()\n",
    "    \n",
    "    # Movies already rated by the user\n",
    "    rated_movies = ratings_df[ratings_df['user_id'] == user_id]['movie_id'].tolist()\n",
    "    unrated_movies = [mid for mid in all_movie_ids if mid not in rated_movies]\n",
    "    print(f\"User {user_id} has {len(unrated_movies)} unrated movies\")\n",
    "\n",
    "    # Get user's top rated movie (used for content-based similarity)\n",
    "    user_top_rated = ratings_df[ratings_df['user_id'] == user_id].sort_values(by='rating', ascending=False).head(1)\n",
    "    if user_top_rated.empty:\n",
    "        return [\"User has no ratings. Cannot recommend.\"]\n",
    "    \n",
    "    top_movie_id = int(user_top_rated['movie_id'].iloc[0])\n",
    "    top_movie_title = movie_id_to_title.get(top_movie_id, None)\n",
    "    \n",
    "    if top_movie_title not in movie_indices:\n",
    "        return [\"User's top rated movie not in similarity matrix.\"]\n",
    "    \n",
    "    top_movie_idx = movie_indices[top_movie_title]\n",
    "    \n",
    "    # Prepare scores list\n",
    "    scores = []\n",
    "    \n",
    "    for mid in unrated_movies:\n",
    "        # Collaborative filtering score\n",
    "        cf_pred = model.predict(user_id, mid).est\n",
    "        \n",
    "        # Content-based score (similarity with user's top movie)\n",
    "        try:\n",
    "            movie_title = movie_id_to_title.get(mid, None)\n",
    "            if movie_title is None or movie_title not in movie_indices:\n",
    "                continue\n",
    "            cb_score = float(cosine_sim[top_movie_idx][movie_indices[movie_title]])\n",
    "        except:\n",
    "            cb_score = 0.0\n",
    "\n",
    "        final_score = float(alpha * cf_pred + (1 - alpha) * cb_score)\n",
    "        scores.append((mid, final_score))\n",
    "\n",
    "    # Sort and get top N\n",
    "    scores = sorted(scores, key=lambda x: x[1], reverse=True)[:top_n]\n",
    "    \n",
    "    # Map to titles\n",
    "    recommendations = []\n",
    "    for mid, score in scores:\n",
    "        title = movie_id_to_title.get(mid, \"Unknown\")\n",
    "        recommendations.append(f\"{title} (ID: {mid}) - Score: {score:.2f}\")\n",
    "    \n",
    "    return recommendations[:top_n]  # where top_n=10\n",
    "\n"
   ]
  },
  {
   "cell_type": "code",
   "execution_count": 33,
   "id": "37273eac",
   "metadata": {},
   "outputs": [
    {
     "name": "stdout",
     "output_type": "stream",
     "text": [
      "User 100 has 1622 unrated movies\n"
     ]
    },
    {
     "data": {
      "text/plain": [
       "['Amadeus (1984) (ID: 191) - Score: 3.24',\n",
       " 'Secrets & Lies (1996) (ID: 285) - Score: 3.22',\n",
       " 'Sling Blade (1996) (ID: 223) - Score: 3.15',\n",
       " \"Schindler's List (1993) (ID: 318) - Score: 3.14\",\n",
       " 'Psycho (1960) (ID: 185) - Score: 3.10',\n",
       " '12 Angry Men (1957) (ID: 178) - Score: 3.05',\n",
       " 'Close Shave, A (1995) (ID: 408) - Score: 3.04',\n",
       " 'Some Folks Call It a Sling Blade (1993) (ID: 963) - Score: 3.04',\n",
       " 'Usual Suspects, The (1995) (ID: 12) - Score: 3.02',\n",
       " 'Three Colors: Red (1994) (ID: 59) - Score: 3.01']"
      ]
     },
     "execution_count": 33,
     "metadata": {},
     "output_type": "execute_result"
    }
   ],
   "source": [
    "hybrid_recommend(user_id=100,top_n= 10)\n"
   ]
  },
  {
   "cell_type": "code",
   "execution_count": null,
   "id": "bad63798",
   "metadata": {},
   "outputs": [],
   "source": []
  }
 ],
 "metadata": {
  "kernelspec": {
   "display_name": "movierec",
   "language": "python",
   "name": "python3"
  },
  "language_info": {
   "codemirror_mode": {
    "name": "ipython",
    "version": 3
   },
   "file_extension": ".py",
   "mimetype": "text/x-python",
   "name": "python",
   "nbconvert_exporter": "python",
   "pygments_lexer": "ipython3",
   "version": "3.10.13"
  }
 },
 "nbformat": 4,
 "nbformat_minor": 5
}
